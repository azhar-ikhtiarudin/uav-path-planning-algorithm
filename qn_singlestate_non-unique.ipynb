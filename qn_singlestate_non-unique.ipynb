{
 "cells": [
  {
   "attachments": {},
   "cell_type": "markdown",
   "metadata": {},
   "source": [
    "#### Import Library"
   ]
  },
  {
   "cell_type": "code",
   "execution_count": 37,
   "metadata": {},
   "outputs": [],
   "source": [
    "# Imports\n",
    "import numpy as np\n",
    "import time\n",
    "import random\n",
    "from tqdm import tqdm\n",
    "import os\n",
    "import pandas as pd\n",
    "import cv2\n",
    "from collections import deque\n",
    "import PIL\n",
    "from PIL import Image\n",
    "import csv\n",
    "import pandas as pd\n",
    "import pickle"
   ]
  },
  {
   "attachments": {},
   "cell_type": "markdown",
   "metadata": {},
   "source": [
    "#### Main Parameter"
   ]
  },
  {
   "cell_type": "code",
   "execution_count": 38,
   "metadata": {},
   "outputs": [],
   "source": [
    "MODEL_NAME = 'qn_singlestate-non-unique'\n",
    "EPISODES = 300\n",
    "MAX_STEP = 10000"
   ]
  },
  {
   "attachments": {},
   "cell_type": "markdown",
   "metadata": {},
   "source": [
    "#### Parameter"
   ]
  },
  {
   "cell_type": "code",
   "execution_count": 39,
   "metadata": {},
   "outputs": [],
   "source": [
    "# Parameters\n",
    "MAP_X = 30\n",
    "MAP_Y = 20\n",
    "GRID_SIZE = 0.5\n",
    "SIZE_X = int(MAP_X/GRID_SIZE)\n",
    "SIZE_Y = int(MAP_Y/GRID_SIZE)\n",
    "pathDist_path = f'scripts/path_dist/{MAP_X}x{MAP_Y}_pathDist_float.csv'\n",
    "\n",
    "\n",
    "STATE_SIZE = 1\n",
    "ACTION_SIZE = 8\n",
    "\n",
    "\n",
    "# Exploration settings\n",
    "epsilon = 1  # not a constant, going to be decayed\n",
    "EPSILON_DECAY = 0.99\n",
    "MIN_EPSILON = 0.001\n",
    "DISCOUNT = 0.99\n",
    "\n",
    "\n",
    "# Environment settings\n",
    "####################################################\n",
    "\n",
    "####################################################\n",
    "\n",
    "SAVE_EVERY = 1 #each step\n",
    "\n",
    "LEARNING_RATE = 0.1\n",
    "DISCOUNT = 0.95\n",
    "TARGET_REWARD = 100\n",
    "\n",
    "GRID_MAX = 2 # For obstacle detection"
   ]
  },
  {
   "attachments": {},
   "cell_type": "markdown",
   "metadata": {},
   "source": [
    "#### Environment Setup"
   ]
  },
  {
   "cell_type": "code",
   "execution_count": 40,
   "metadata": {},
   "outputs": [],
   "source": [
    "\n",
    "# Define Functions and Classes\n",
    "def createLine(walls, SIZE_Y, SIZE_X):\n",
    "    # Full Horizontal Line\n",
    "    # for i in range(SIZE_X):\n",
    "    #     walls[int(SIZE_Y/2),int(i)] = 1\n",
    "\n",
    "    # Full Vertical Line\n",
    "    # for i in range(SIZE_Y):\n",
    "    # walls[int(i), int(SIZE_X/2)] = 1\n",
    "\n",
    "    # Segment 1\n",
    "    for i in range(SIZE_Y//10, SIZE_Y//3):\n",
    "        walls[i, SIZE_X//2] = 1\n",
    "\n",
    "    # Segment 2\n",
    "    for i in range(SIZE_X//2, SIZE_X//2+SIZE_X//6):\n",
    "        walls[SIZE_Y//10, i] = 1\n",
    "\n",
    "    # Segment 3\n",
    "    for i in range(SIZE_Y//10, SIZE_Y//4):\n",
    "        walls[i, SIZE_X//2+SIZE_X//6] = 1\n",
    "\n",
    "    # Segment 4\n",
    "    for i in range(SIZE_X//2-SIZE_X//6, SIZE_X//2+1):\n",
    "        walls[SIZE_Y//3, i] = 1\n",
    "\n",
    "    # Segment 5\n",
    "    for i in range(SIZE_Y//3, SIZE_Y//3+SIZE_Y//4):\n",
    "        walls[i, SIZE_X//2-SIZE_X//6] = 1\n",
    "\n",
    "    # Segment 6\n",
    "    for i in range(SIZE_X//2-SIZE_X//6, SIZE_X//2+SIZE_X//6):\n",
    "        walls[SIZE_Y//3+SIZE_Y//4, i] = 1\n",
    "\n",
    "    # Segment 7\n",
    "    for i in range(SIZE_Y//3+SIZE_Y//4, SIZE_Y//3+SIZE_Y//4+SIZE_Y//5):\n",
    "        walls[i, SIZE_X//2+SIZE_X//6] = 1\n",
    "\n",
    "    # Segment 8\n",
    "    for i in range(SIZE_X//2+SIZE_X//6, SIZE_X//2+SIZE_X//6+SIZE_X//6):\n",
    "        walls[SIZE_Y//3+SIZE_Y//4+SIZE_Y//5, i] = 1\n",
    "\n",
    "    # Segment 9\n",
    "    for i in range(SIZE_Y-SIZE_Y//3, SIZE_Y):\n",
    "        walls[i, SIZE_X//2] = 1\n",
    "\n",
    "    # Segment 10\n",
    "    for i in range(SIZE_Y-SIZE_Y//4, SIZE_Y):\n",
    "        walls[i, SIZE_X//2-SIZE_X//4] = 1\n",
    "\n",
    "    # Segment 11\n",
    "    for i in range(0, SIZE_X//6):\n",
    "        walls[SIZE_Y//5, i] = 1\n",
    "\n",
    "    # Segment 12\n",
    "    for i in range(SIZE_Y//5, SIZE_Y//5+SIZE_Y//5):\n",
    "        walls[i, SIZE_X//6] = 1\n",
    "\n",
    "    # Segment 13\n",
    "    for i in range(0, SIZE_X//6):\n",
    "        walls[SIZE_Y//5+SIZE_Y//3, i] = 1\n",
    "\n",
    "    # Segment 14\n",
    "    for i in range(0, SIZE_Y//3):\n",
    "        walls[i, SIZE_X-SIZE_X//6] = 1\n",
    "\n",
    "    # Segment 15\n",
    "    for i in range(SIZE_X-SIZE_X//10, SIZE_X):\n",
    "        walls[SIZE_Y//3, i] = 1\n",
    "\n",
    "    # Segment 16\n",
    "    for i in range(SIZE_X-SIZE_X//9, SIZE_X):\n",
    "        walls[SIZE_Y//2+SIZE_Y//10, i] = 1\n",
    "\n",
    "    # Segment 17\n",
    "    for i in range(SIZE_Y//2+SIZE_Y//10, SIZE_Y//2+SIZE_Y//10+SIZE_Y//4):\n",
    "        walls[i, SIZE_X-SIZE_X//9] = 1\n",
    "\n",
    "    # Segment 18\n",
    "    for i in range(SIZE_Y//2+SIZE_Y//10+SIZE_Y//3, SIZE_Y):\n",
    "        walls[i, SIZE_X-SIZE_X//9] = 1\n",
    "\n",
    "    return walls\n",
    "\n",
    "\n",
    "class EnvObject:\n",
    "    def __init__(self, x, y):\n",
    "        self.x = x\n",
    "        self.y = y\n",
    "\n",
    "    def __str__(self):\n",
    "        return f\"{self.x}, {self.y}\"\n",
    "\n",
    "    def __sub__(self, other):\n",
    "        return (self.x - other.x, self.y - other.y)\n",
    "\n",
    "    def __eq__(self, other):\n",
    "        return self.x == other.x and self.y == other.y\n",
    "\n",
    "\n",
    "class Drone(EnvObject):\n",
    "    def __init__(self, x, y):\n",
    "        super().__init__(x, y)\n",
    "\n",
    "    def action(self, choice, walls = None):\n",
    "        '''\n",
    "        Gives us 9 total movement options. (0,1,2,3,4,5,6,7,8)\n",
    "        '''\n",
    "        # if choice == 0:\n",
    "        #     x = 0\n",
    "        #     y = 0\n",
    "            \n",
    "        if choice == 0:\n",
    "            x=-1\n",
    "            y=-1\n",
    "        elif choice == 1:\n",
    "            x=-1\n",
    "            y=1\n",
    "        elif choice == 2:\n",
    "            x=1\n",
    "            y=-1\n",
    "        elif choice == 3:\n",
    "            x=1\n",
    "            y=1\n",
    "            \n",
    "        elif choice == 4:\n",
    "            x=1\n",
    "            y=0\n",
    "        elif choice == 5:\n",
    "            x=-1\n",
    "            y=0\n",
    "            \n",
    "        elif choice == 6:\n",
    "            x=0\n",
    "            y=1\n",
    "        elif choice == 7:\n",
    "            x=0\n",
    "            y=-1\n",
    "        \n",
    "        self.move(x=x, y=y, walls=walls)\n",
    "            \n",
    "\n",
    "    def move(self, x=0, y=0, walls = None):\n",
    "        #if no value for x or y, stay\n",
    "        \n",
    "        x,y = self.collisionCheck(x,y,walls)\n",
    "        self.x += x\n",
    "        self.y += y\n",
    "\n",
    "            \n",
    "    def collisionCheck(self, x=0, y=0, walls=None):\n",
    "        #checking for out of bounds\n",
    "        predict_x = self.x + x\n",
    "        predict_y = self.y + y\n",
    "        if predict_x < 0 or predict_x > SIZE_X-1:\n",
    "            x = 0\n",
    "        if predict_y < 0 or predict_y > SIZE_Y-1:\n",
    "            y = 0\n",
    "            \n",
    "        \n",
    "        # Check for collision with walls    \n",
    "        if walls is None:\n",
    "            return x,y\n",
    "        elif walls[self.y+y][self.x+x] == 1:\n",
    "            return 0,0\n",
    "        else:\n",
    "            return x,y\n",
    "    \n",
    "    def detectObstacle(self, walls):\n",
    "        self.obstacle = np.zeros((8, ), dtype=np.uint8)\n",
    "        \n",
    "        for grid in range(1, GRID_MAX+1):\n",
    "            for x in range(-1, 2):\n",
    "                for y in range(-1,2):\n",
    "                    if (self.x + grid*x > 0 and self.x + grid*x < SIZE_X-1) and (self.y + grid*y > 0 and self.y + grid*y < SIZE_Y-1):\n",
    "                        print(x*grid,y*grid)\n",
    "                        if walls[self.y+grid*y][self.x+grid*x] == 1 and (x == 0 and y==1):\n",
    "                            self.obstacle[4] += (GRID_MAX-grid+1)\n",
    "                        elif walls[self.y+grid*y][self.x+grid*x] == 1 and (x == 1 and y==1):\n",
    "                            self.obstacle[3] += (GRID_MAX-grid+1)\n",
    "                        elif walls[self.y+grid*y][self.x+grid*x] == 1 and (x == 1 and y==0):\n",
    "                            self.obstacle[2] += (GRID_MAX-grid+1)\n",
    "                        elif walls[self.y+grid*y][self.x+grid*x] == 1 and (x == 1 and y==-1):\n",
    "                            self.obstacle[1] += (GRID_MAX-grid+1)\n",
    "                        elif walls[self.y+grid*y][self.x+grid*x] == 1 and (x == 0 and y==-1):\n",
    "                            self.obstacle[0] += (GRID_MAX-grid+1)\n",
    "                        elif walls[self.y+grid*y][self.x+grid*x] == 1 and (x == -1 and y==-1):\n",
    "                            self.obstacle[7] += (GRID_MAX-grid+1)\n",
    "                        elif walls[self.y+grid*y][self.x+grid*x] == 1 and (x == -1 and y==0):\n",
    "                            self.obstacle[6] += (GRID_MAX-grid+1)\n",
    "                        elif walls[self.y+grid*y][self.x+grid*x] == 1 and (x == -1 and y==1):\n",
    "                            self.obstacle[5] += (GRID_MAX-grid+1)\n",
    "                        print('grid: ', grid, 'obstacle:', self.obstacle)\n",
    "        # self.obstacle[0] += 2\n",
    "        return self.obstacle\n",
    "\n",
    "\n",
    "class Target(EnvObject):\n",
    "    def __init__(self, x, y):\n",
    "        super().__init__(x, y)\n",
    "\n",
    "\n",
    "class DroneEnv:\n",
    "    # Define Parameters\n",
    "    SIZE_X = SIZE_X\n",
    "    SIZE_Y = SIZE_Y\n",
    "    ENV_COLOR = (20, 52, 89)\n",
    "    WALLS_COLOR = (77, 77, 234)\n",
    "    DRONE_COLOR = (234, 222, 53)\n",
    "    TARGET_COLOR = (132, 234, 53)\n",
    "    space = np.zeros((SIZE_Y, SIZE_X, 3), dtype=np.uint8)\n",
    "    walls = createLine(\n",
    "        np.zeros((SIZE_Y, SIZE_X), dtype=np.uint8), SIZE_Y, SIZE_X)\n",
    "    pathDist = pd.read_csv(f'{pathDist_path}', header=None, dtype='Float32').values.astype('uint8')\n",
    "    \n",
    "    def reset(self):\n",
    "        # self.agent_1 = Drone(self.SIZE_X-self.SIZE_X//11, self.SIZE_Y//10)\n",
    "        self.agent_1 = Drone(55,12)\n",
    "        self.agent_3 = Drone(self.SIZE_X-self.SIZE_X//13,\n",
    "                             self.SIZE_Y-self.SIZE_Y//11)\n",
    "        self.target = Target(SIZE_X//10, self.SIZE_Y//2-self.SIZE_Y//20)\n",
    "\n",
    "        self.episode_step = 0\n",
    "\n",
    "        observation = (self.pathDist[self.agent_1.y][self.agent_1.x])\n",
    "        return observation\n",
    "\n",
    "    def step(self, action, observation):\n",
    "        reward = 0\n",
    "        done= False\n",
    "        self.episode_step += 1\n",
    "        self.agent_1.action(action, self.walls)\n",
    "\n",
    "        new_observation = (self.pathDist[self.agent_1.y][self.agent_1.x]) \n",
    "        # if self.agent_1 == self.target:\n",
    "        if (new_observation <= 1) :\n",
    "            reward = TARGET_REWARD\n",
    "            done = True\n",
    "        elif self.episode_step >= MAX_STEP:\n",
    "            reward = -10\n",
    "            done = True\n",
    "        else:\n",
    "            reward = 1.5*(observation - new_observation)/10 - 0.5\n",
    "            done = False\n",
    "            \n",
    "        return new_observation, reward, done\n",
    "\n",
    "    def visualize(self):\n",
    "        for i in range(self.SIZE_Y):\n",
    "            for j in range(self.SIZE_X):\n",
    "                if self.walls[i][j] == 1:\n",
    "                    self.space[i][j] = self.WALLS_COLOR\n",
    "                else:\n",
    "                    self.space[i][j] = self.ENV_COLOR\n",
    "\n",
    "        self.space[self.agent_1.y][self.agent_1.x] = self.DRONE_COLOR\n",
    "        self.space[self.target.y][self.target.x] = self.TARGET_COLOR\n",
    "\n",
    "    def render(self):\n",
    "        self.visualize()\n",
    "        img = Image.fromarray(self.space, 'RGB')\n",
    "        img = img.resize((1200, 800), resample=Image.Resampling.BOX)\n",
    "        cv2.imshow(\"image\", np.array(img))  # show it!\n",
    "        cv2.waitKey(0)\n",
    "        cv2.destroyAllWindows()\n",
    "\n",
    "    def saveImage(self, image_path, episode='e', step='s'):\n",
    "        self.visualize()\n",
    "        if not os.path.isdir(image_path):\n",
    "            os.makedirs(image_path)\n",
    "\n",
    "        img = Image.fromarray(self.space, 'RGB')\n",
    "        # img = img.resize((1200, 800), resample=Image.Resampling.BOX)\n",
    "        img_rgb = img.convert('RGB')\n",
    "        img_rgb = img_rgb.save(f'{image_path}/episode_{episode}/image_{episode}_{step}.png')\n",
    "        "
   ]
  },
  {
   "attachments": {},
   "cell_type": "markdown",
   "metadata": {},
   "source": [
    "#### Initialization"
   ]
  },
  {
   "cell_type": "code",
   "execution_count": 41,
   "metadata": {},
   "outputs": [],
   "source": [
    "env = DroneEnv()\n",
    "header = ['episode', 'step', 'episode_reward', 'epsilon', 'x_position', 'y_position']\n",
    "header_episode = ['episode', 'episode_reward']\n",
    "episode_rewards = []\n",
    "csvPrints = []\n",
    "csvPrintEpisodes = []\n",
    "\n",
    "if not os.path.isdir('images'):\n",
    "    os.makedirs('images')\n",
    "#for episode in range(1, EPISODES+1):\n",
    "    #os.makedirs(f'images/episode_{episode}')\n",
    "\n",
    "start_q_table = None  # if we have a pickled Q table, we'll put the filename of it here.\n",
    "\n",
    "if start_q_table is None:\n",
    "    q_table = {}\n",
    "    for i in range(0, 1000):\n",
    "        q_table[(i)] = [np.random.uniform(-5, 0) for i in range(ACTION_SIZE)]\n",
    "else:\n",
    "    with open(start_q_table, \"rb\") as f:\n",
    "        q_tablle = pickle.load(f)     \n",
    "                \n"
   ]
  },
  {
   "attachments": {},
   "cell_type": "markdown",
   "metadata": {},
   "source": [
    "#### Main Loop"
   ]
  },
  {
   "cell_type": "code",
   "execution_count": 42,
   "metadata": {},
   "outputs": [
    {
     "name": "stderr",
     "output_type": "stream",
     "text": [
      "C:\\Users\\azhar\\AppData\\Local\\Temp\\ipykernel_23028\\1232307081.py:243: RuntimeWarning: overflow encountered in ubyte_scalars\n",
      "  reward = 1.5*(observation - new_observation)/10 - 0.5\n"
     ]
    },
    {
     "name": "stdout",
     "output_type": "stream",
     "text": [
      "Episode: 1, steps: 3298, episode reward: 41736.85000000079, epsilon: 1\n",
      "Episode: 6, steps: 8436, episode reward: 105100.64999999736, epsilon: 0.9509900498999999\n"
     ]
    }
   ],
   "source": [
    "for episode in range(1, EPISODES+1):\n",
    "    agent_1 = Drone(SIZE_X-SIZE_X//11, SIZE_Y//10)\n",
    "    target = Target(SIZE_X//10, 3*SIZE_Y//4)\n",
    "    episode_reward = 0\n",
    "\n",
    "    current_state = env.reset()\n",
    "    \n",
    "    done = False\n",
    "    while not done:\n",
    "        current_state = (env.pathDist[env.agent_1.y][env.agent_1.x])\n",
    "        \n",
    "        if np.random.random() > epsilon:\n",
    "            action = np.argmax(q_table[current_state])\n",
    "        else:\n",
    "            action = np.random.randint(0, ACTION_SIZE)\n",
    "        \n",
    "        new_state, reward, done = env.step(action, current_state)\n",
    "        \n",
    "        max_future_q = np.max(q_table[new_state])\n",
    "        current_q = q_table[current_state][action]\n",
    "        \n",
    "        if reward == TARGET_REWARD:\n",
    "            new_q = TARGET_REWARD\n",
    "        else:\n",
    "            new_q =  (1 - LEARNING_RATE) * current_q + LEARNING_RATE * (reward + DISCOUNT * max_future_q)\n",
    "            \n",
    "        q_table[current_state][action] = new_q\n",
    "\n",
    "        episode_reward += reward\n",
    "        \n",
    "        if reward == TARGET_REWARD:\n",
    "            print(f'Episode: {episode}, steps: {env.episode_step}, episode reward: {episode_reward}, epsilon: {epsilon}')\n",
    "            break\n",
    "        \n",
    "        #if env.episode_step % SAVE_EVERY == 0:\n",
    "            #env.saveImage(f'outpus/images/{MODEL_NAME}', episode, env.episode_step)\n",
    "\n",
    "        episode_rewards.append(episode_reward)  \n",
    "        \n",
    "        csvPrint = [episode, env.episode_step, episode_reward, epsilon, env.agent_1.x, env.agent_1.y,env.pathDist[env.agent_1.y][env.agent_1.x]]\n",
    "        csvPrints.append(csvPrint)\n",
    "    \n",
    "    csvPrintEpisodes.append([episode, episode_reward, env.episode_step,  epsilon])\n",
    "    if epsilon > MIN_EPSILON:\n",
    "        epsilon *= EPSILON_DECAY      \n",
    "     "
   ]
  },
  {
   "attachments": {},
   "cell_type": "markdown",
   "metadata": {},
   "source": [
    "#### Save Data"
   ]
  },
  {
   "cell_type": "code",
   "execution_count": 43,
   "metadata": {},
   "outputs": [],
   "source": [
    "   \n",
    "with open(f'outputs/csv/{MODEL_NAME}.csv', 'w', encoding='UTF8', newline='') as f:\n",
    "    writer = csv.writer(f)\n",
    "\n",
    "    # write the header\n",
    "    writer.writerow(header)\n",
    "\n",
    "    # write multiple rows\n",
    "    writer.writerows(csvPrints)\n",
    "\n",
    "with open(f'outputs/csv/{MODEL_NAME}_episode.csv', 'w', encoding='UTF8', newline='') as f:\n",
    "    writer = csv.writer(f)\n",
    "\n",
    "    # write the header\n",
    "    writer.writerow(header_episode)\n",
    "\n",
    "    # write multiple rows\n",
    "    writer.writerows(csvPrintEpisodes)\n",
    "\n",
    "\n",
    "with open(f\"outputs/qtables/qtable-{MODEL_NAME}-{int(time.time())}.pickle\", \"wb\") as f:\n",
    "    pickle.dump(q_table, f)"
   ]
  },
  {
   "attachments": {},
   "cell_type": "markdown",
   "metadata": {},
   "source": [
    "#### Create Plot"
   ]
  },
  {
   "cell_type": "code",
   "execution_count": 44,
   "metadata": {},
   "outputs": [
    {
     "data": {
      "text/plain": [
       "[<matplotlib.lines.Line2D at 0x194f937a320>]"
      ]
     },
     "execution_count": 44,
     "metadata": {},
     "output_type": "execute_result"
    },
    {
     "data": {
      "image/png": "[encoded data removed]",
      "text/plain": [
       "<Figure size 600x400 with 1 Axes>"
      ]
     },
     "metadata": {},
     "output_type": "display_data"
    }
   ],
   "source": [
    "import matplotlib.pyplot as plt\n",
    "\n",
    "plt.figure(figsize = (6,4))\n",
    "plt.title('Single State Q Learning Reward')\n",
    "plt.xlabel('Episode')\n",
    "plt.ylabel('Reward')\n",
    "plt.plot([i[0] for i in csvPrintEpisodes], [i[1] for i in csvPrintEpisodes])"
   ]
  },
  {
   "cell_type": "code",
   "execution_count": 45,
   "metadata": {},
   "outputs": [
    {
     "data": {
      "text/plain": [
       "[<matplotlib.lines.Line2D at 0x194f9ae5210>]"
      ]
     },
     "execution_count": 45,
     "metadata": {},
     "output_type": "execute_result"
    },
    {
     "data": {
      "image/png": "[encoded data removed]",
      "text/plain": [
       "<Figure size 600x400 with 1 Axes>"
      ]
     },
     "metadata": {},
     "output_type": "display_data"
    }
   ],
   "source": [
    "import matplotlib.pyplot as plt\n",
    "\n",
    "plt.figure(figsize = (6,4))\n",
    "plt.title('Single State Q Learning Step')\n",
    "plt.xlabel('Episode')\n",
    "plt.ylabel('Step')\n",
    "plt.plot([i[0] for i in csvPrintEpisodes], [i[2] for i in csvPrintEpisodes])"
   ]
  },
  {
   "cell_type": "code",
   "execution_count": 46,
   "metadata": {},
   "outputs": [
    {
     "data": {
      "text/plain": [
       "[<matplotlib.lines.Line2D at 0x194f9b74a60>]"
      ]
     },
     "execution_count": 46,
     "metadata": {},
     "output_type": "execute_result"
    },
    {
     "data": {
      "image/png": "[encoded data removed]",
      "text/plain": [
       "<Figure size 600x400 with 1 Axes>"
      ]
     },
     "metadata": {},
     "output_type": "display_data"
    }
   ],
   "source": [
    "import matplotlib.pyplot as plt\n",
    "\n",
    "plt.figure(figsize = (6,4))\n",
    "plt.title('Single State Q Learning Epsilon ')\n",
    "plt.xlabel('Episode')\n",
    "plt.ylabel('Step')\n",
    "plt.plot([i[0] for i in csvPrintEpisodes], [i[3] for i in csvPrintEpisodes])"
   ]
  },
  {
   "cell_type": "code",
   "execution_count": null,
   "metadata": {},
   "outputs": [],
   "source": []
  }
 ],
 "metadata": {
  "kernelspec": {
   "display_name": "gym_bismillah",
   "language": "python",
   "name": "python3"
  },
  "language_info": {
   "codemirror_mode": {
    "name": "ipython",
    "version": 3
   },
   "file_extension": ".py",
   "mimetype": "text/x-python",
   "name": "python",
   "nbconvert_exporter": "python",
   "pygments_lexer": "ipython3",
   "version": "3.10.8"
  },
  "orig_nbformat": 4,
  "vscode": {
   "interpreter": {
    "hash": "a122152d54564007e70c07b682afaff05489f449ba063d913fa35bef684e9d23"
   }
  }
 },
 "nbformat": 4,
 "nbformat_minor": 2
}
