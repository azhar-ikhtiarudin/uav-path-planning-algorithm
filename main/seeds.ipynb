{
 "cells": [
  {
   "cell_type": "code",
   "execution_count": 8,
   "metadata": {},
   "outputs": [
    {
     "name": "stdout",
     "output_type": "stream",
     "text": [
      "((-4, -28), (-1, -65), 2)\n",
      "<class 'tuple'>\n",
      "(-4, -28, -1, -65, 2)\n",
      "<class 'tuple'>\n"
     ]
    }
   ],
   "source": [
    "from model.DQNAgent import DQNAgent\n",
    "from env.drone_env import env, Drone\n",
    "\n",
    "SIZE_Y = 40*2\n",
    "SIZE_X = 60*2\n",
    "\n",
    "agent_1 = Drone(SIZE_X-SIZE_X//11, SIZE_Y//10)\n",
    "agent_2 = Drone(SIZE_X-SIZE_X//20, SIZE_Y//2-SIZE_Y//20)\n",
    "agent_3 = Drone(SIZE_X-SIZE_X//13, SIZE_Y-SIZE_Y//11)\n",
    "\n",
    "obs = (agent_1 - agent_2, agent_1 - agent_3, 2)\n",
    "obs_2 = (agent_1 - agent_2) + (agent_1 - agent_3) + (2,)\n",
    "\n",
    "print(obs)\n",
    "print(type(obs))\n",
    "\n",
    "print(obs_2)\n",
    "print(type(obs_2))"
   ]
  },
  {
   "cell_type": "code",
   "execution_count": 5,
   "metadata": {},
   "outputs": [
    {
     "name": "stdout",
     "output_type": "stream",
     "text": [
      "(((-4, -28), (-1, -65), 2), 2)\n"
     ]
    }
   ],
   "source": [
    "a = (obs, 2)\n",
    "print(a)"
   ]
  },
  {
   "cell_type": "code",
   "execution_count": 4,
   "metadata": {},
   "outputs": [
    {
     "ename": "TypeError",
     "evalue": "DroneEnv.saveImage() missing 1 required positional argument: 'number'",
     "output_type": "error",
     "traceback": [
      "\u001b[1;31m---------------------------------------------------------------------------\u001b[0m",
      "\u001b[1;31mTypeError\u001b[0m                                 Traceback (most recent call last)",
      "Cell \u001b[1;32mIn[4], line 8\u001b[0m\n\u001b[0;32m      6\u001b[0m env \u001b[39m=\u001b[39m DroneEnv()\n\u001b[0;32m      7\u001b[0m obs \u001b[39m=\u001b[39m env\u001b[39m.\u001b[39mreset()\n\u001b[1;32m----> 8\u001b[0m env\u001b[39m.\u001b[39;49msaveImage()\n\u001b[0;32m      9\u001b[0m \u001b[39m# print(status)\u001b[39;00m\n",
      "\u001b[1;31mTypeError\u001b[0m: DroneEnv.saveImage() missing 1 required positional argument: 'number'"
     ]
    }
   ],
   "source": [
    "import numpy as np\n",
    "import cv2\n",
    "from PIL import Image\n",
    "from env.drone_env import DroneEnv\n",
    "\n",
    "env = DroneEnv()\n",
    "obs = env.reset()\n",
    "env.saveImage()\n",
    "# print(status)"
   ]
  },
  {
   "cell_type": "code",
   "execution_count": 1,
   "metadata": {},
   "outputs": [
    {
     "ename": "NameError",
     "evalue": "name 'cv2' is not defined",
     "output_type": "error",
     "traceback": [
      "\u001b[1;31m---------------------------------------------------------------------------\u001b[0m",
      "\u001b[1;31mNameError\u001b[0m                                 Traceback (most recent call last)",
      "Cell \u001b[1;32mIn[1], line 1\u001b[0m\n\u001b[1;32m----> 1\u001b[0m img \u001b[39m=\u001b[39m cv2\u001b[39m.\u001b[39mimread(\u001b[39m'\u001b[39m\u001b[39mimages/image.png\u001b[39m\u001b[39m'\u001b[39m)\n\u001b[0;32m      2\u001b[0m img\u001b[39m=\u001b[39m cv2\u001b[39m.\u001b[39mcvtColor(img, cv2\u001b[39m.\u001b[39mCOLOR_BGR2RGB)\n\u001b[0;32m      3\u001b[0m cv2\u001b[39m.\u001b[39mimshow(\u001b[39m\"\u001b[39m\u001b[39mimage\u001b[39m\u001b[39m\"\u001b[39m, img)  \u001b[39m# show it!\u001b[39;00m\n",
      "\u001b[1;31mNameError\u001b[0m: name 'cv2' is not defined"
     ]
    }
   ],
   "source": [
    "img = cv2.imread('images/image.png')\n",
    "img= cv2.cvtColor(img, cv2.COLOR_BGR2RGB)\n",
    "cv2.imshow(\"image\", img)  # show it!\n",
    "cv2.imwrite('images/image_2.png', img)"
   ]
  },
  {
   "cell_type": "code",
   "execution_count": null,
   "metadata": {},
   "outputs": [],
   "source": []
  }
 ],
 "metadata": {
  "kernelspec": {
   "display_name": "gym_bismillah",
   "language": "python",
   "name": "python3"
  },
  "language_info": {
   "codemirror_mode": {
    "name": "ipython",
    "version": 3
   },
   "file_extension": ".py",
   "mimetype": "text/x-python",
   "name": "python",
   "nbconvert_exporter": "python",
   "pygments_lexer": "ipython3",
   "version": "3.10.8"
  },
  "orig_nbformat": 4,
  "vscode": {
   "interpreter": {
    "hash": "a122152d54564007e70c07b682afaff05489f449ba063d913fa35bef684e9d23"
   }
  }
 },
 "nbformat": 4,
 "nbformat_minor": 2
}
