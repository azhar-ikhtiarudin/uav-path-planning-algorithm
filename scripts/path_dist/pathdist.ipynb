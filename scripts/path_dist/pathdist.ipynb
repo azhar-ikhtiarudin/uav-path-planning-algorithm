{
 "cells": [
  {
   "cell_type": "code",
   "execution_count": 77,
   "metadata": {},
   "outputs": [],
   "source": [
    "import random\n",
    "import numpy as np\n",
    "import matplotlib as plt\n",
    "import pandas as pd\n",
    "from PIL import Image\n",
    "import os\n",
    "import cv2\n",
    "from pathfinding.core.diagonal_movement import DiagonalMovement\n",
    "from pathfinding.core.grid import Grid\n",
    "from pathfinding.finder.a_star import AStarFinder"
   ]
  },
  {
   "cell_type": "code",
   "execution_count": 78,
   "metadata": {},
   "outputs": [],
   "source": [
    "SIZE_Y = 40*2\n",
    "SIZE_X = 60*2\n",
    "\n",
    "#Define Functions and Classes\n",
    "\n",
    "def createLine(walls, SIZE_Y, SIZE_X):\n",
    "    #Full Horizontal Line\n",
    "    # for i in range(SIZE_X):\n",
    "    #     walls[int(SIZE_Y/2),int(i)] = 1\n",
    "        \n",
    "    #Full Vertical Line\n",
    "    # for i in range(SIZE_Y):\n",
    "        # walls[int(i), int(SIZE_X/2)] = 1\n",
    "\n",
    "    #Segment 1\n",
    "    for i in range(SIZE_Y//10, SIZE_Y//3):\n",
    "        walls[i, SIZE_X//2] = 1\n",
    "\n",
    "    #Segment 2\n",
    "    for i in range(SIZE_X//2, SIZE_X//2+SIZE_X//6):\n",
    "        walls[SIZE_Y//10, i] = 1\n",
    "\n",
    "    #Segment 3\n",
    "    for i in range(SIZE_Y//10, SIZE_Y//4):\n",
    "        walls[i, SIZE_X//2+SIZE_X//6] = 1\n",
    "\n",
    "    #Segment 4\n",
    "    for i in range(SIZE_X//2-SIZE_X//6, SIZE_X//2+1):\n",
    "        walls[SIZE_Y//3, i] = 1\n",
    "\n",
    "    #Segment 5\n",
    "    for i in range(SIZE_Y//3, SIZE_Y//3+SIZE_Y//4):\n",
    "        walls[i, SIZE_X//2-SIZE_X//6] = 1\n",
    "\n",
    "    #Segment 6\n",
    "    for i in range(SIZE_X//2-SIZE_X//6, SIZE_X//2+SIZE_X//6):\n",
    "        walls[SIZE_Y//3+SIZE_Y//4, i] = 1\n",
    "        \n",
    "    #Segment 7\n",
    "    for i in range(SIZE_Y//3+SIZE_Y//4, SIZE_Y//3+SIZE_Y//4+SIZE_Y//5):\n",
    "        walls[i, SIZE_X//2+SIZE_X//6] = 1\n",
    "\n",
    "    #Segment 8\n",
    "    for i in range(SIZE_X//2+SIZE_X//6, SIZE_X//2+SIZE_X//6+SIZE_X//6):\n",
    "        walls[SIZE_Y//3+SIZE_Y//4+SIZE_Y//5, i] = 1\n",
    "\n",
    "    #Segment 9\n",
    "    for i in range(SIZE_Y-SIZE_Y//3, SIZE_Y):\n",
    "        walls[i, SIZE_X//2] = 1\n",
    "        \n",
    "    #Segment 10\n",
    "    for i in range(SIZE_Y-SIZE_Y//4, SIZE_Y):\n",
    "        walls[i, SIZE_X//2-SIZE_X//4] = 1\n",
    "\n",
    "    #Segment 11\n",
    "    for i in range(0, SIZE_X//6):\n",
    "        walls[SIZE_Y//5, i] = 1\n",
    "\n",
    "    #Segment 12\n",
    "    for i in range(SIZE_Y//5, SIZE_Y//5+SIZE_Y//5):\n",
    "        walls[i, SIZE_X//6] = 1\n",
    "\n",
    "    #Segment 13\n",
    "    for i in range(0, SIZE_X//6):\n",
    "        walls[SIZE_Y//5+SIZE_Y//3, i] = 1\n",
    "        \n",
    "    #Segment 14\n",
    "    for i in range(0, SIZE_Y//3):\n",
    "        walls[i, SIZE_X-SIZE_X//6] = 1\n",
    "\n",
    "    #Segment 15\n",
    "    for i in range(SIZE_X-SIZE_X//10, SIZE_X):\n",
    "        walls[SIZE_Y//3, i] = 1\n",
    "\n",
    "    #Segment 16\n",
    "    for i in range(SIZE_X-SIZE_X//9, SIZE_X):\n",
    "        walls[SIZE_Y//2+SIZE_Y//10, i] = 1\n",
    "\n",
    "    #Segment 17\n",
    "    for i in range(SIZE_Y//2+SIZE_Y//10, SIZE_Y//2+SIZE_Y//10+SIZE_Y//4):\n",
    "        walls[i, SIZE_X-SIZE_X//9] = 1\n",
    "        \n",
    "    #Segment 18\n",
    "    for i in range(SIZE_Y//2+SIZE_Y//10+SIZE_Y//3, SIZE_Y):\n",
    "        walls[i, SIZE_X-SIZE_X//9] = 1\n",
    "    \n",
    "    return walls\n",
    "\n",
    "class EnvObject:\n",
    "    def __init__(self, x, y):\n",
    "        self.x = x\n",
    "        self.y = y\n",
    "\n",
    "    def __str__(self):\n",
    "        return f\"{self.x}, {self.y}\"\n",
    "    \n",
    "    def __sub__(self, other):\n",
    "        return (self.x - other.x, self.y - other.y)\n",
    "    \n",
    "    def __eq__(self, other):\n",
    "        return self.x == other.x and self.y == other.y\n",
    "    \n",
    "class Drone(EnvObject):\n",
    "    def __init__(self, x, y):\n",
    "        super().__init__(x, y)\n",
    "        \n",
    "    def action(self, choice):\n",
    "        '''\n",
    "        Gives us 9 total movement options. (0,1,2,3,4,5,6,7,8)\n",
    "        '''\n",
    "        if choice == 0:\n",
    "            self.move(x=1, y=1)\n",
    "        elif choice == 1:\n",
    "            self.move(x=-1, y=-1)\n",
    "        elif choice == 2:\n",
    "            self.move(x=-1, y=1)\n",
    "        elif choice == 3:\n",
    "            self.move(x=1, y=-1)\n",
    "\n",
    "        elif choice == 4:\n",
    "            self.move(x=1, y=0)\n",
    "        elif choice == 5:\n",
    "            self.move(x=-1, y=0)\n",
    "\n",
    "        elif choice == 6:\n",
    "            self.move(x=0, y=1)\n",
    "        elif choice == 7:\n",
    "            self.move(x=0, y=-1)\n",
    "\n",
    "        elif choice == 8:\n",
    "            self.move(x=0, y=0)\n",
    "\n",
    "    def move(self, x=False, y=False):\n",
    "\n",
    "        # If no value for x, move randomly\n",
    "        if not x:\n",
    "            self.x += np.random.randint(-1, 2)\n",
    "        else:\n",
    "            self.x += x\n",
    "\n",
    "        # If no value for y, move randomly\n",
    "        if not y:\n",
    "            self.y += np.random.randint(-1, 2)\n",
    "        else:\n",
    "            self.y += y\n",
    "\n",
    "\n",
    "        # If we are out of bounds, fix!\n",
    "        if self.x < 0:\n",
    "            self.x = 0\n",
    "        elif self.x > SIZE_X-1:\n",
    "            self.x = SIZE_X-1\n",
    "        if self.y < 0:\n",
    "            self.y = 0\n",
    "        elif self.y > SIZE_Y-1:\n",
    "            self.y = SIZE_Y-1\n",
    "\n",
    "class Target(EnvObject):\n",
    "    def __init__(self, x, y):\n",
    "        super().__init__(x, y)\n",
    "\n",
    "class DroneEnv:\n",
    "    #Define Parameters\n",
    "    SIZE_Y = 40*2\n",
    "    SIZE_X = 60*2\n",
    "    ENV_COLOR = (20, 52, 89)\n",
    "    WALLS_COLOR = (77, 77, 234)\n",
    "    DRONE_COLOR = (234, 222, 53)\n",
    "    TARGET_COLOR = (132, 234, 53)\n",
    "    space = np.zeros((SIZE_Y, SIZE_X, 3), dtype=np.uint8) \n",
    "    walls = np.zeros((SIZE_Y, SIZE_X), dtype=np.uint8)\n",
    "    walls = createLine(walls, SIZE_Y, SIZE_X)\n",
    "\n",
    "\n",
    "    def initial(self):\n",
    "        self.agent_1 = Drone(self.SIZE_X-self.SIZE_X//11, self.SIZE_Y//10)\n",
    "        self.agent_2 = Drone(self.SIZE_X-self.SIZE_X//20, self.SIZE_Y//2-self.SIZE_Y//20)\n",
    "        self.agent_3 = Drone(self.SIZE_X-self.SIZE_X//13, self.SIZE_Y-self.SIZE_Y//11)\n",
    "        self.target = Target(self.SIZE_X//10, self.SIZE_Y//2-self.SIZE_Y//20)\n",
    "        \n",
    "        self.episode_step = 0\n",
    "        # observation = (self.agent_1.x - self.target.x) + (self.agent_1.y - self.target.y) + np.sqrt((self.agent_1.x - self.target.x)**2 + (self.agent_1.y - self.target.y)**2)\n",
    "        observation = np.array([self.agent_1.x - self.target.x, self.agent_1.y - self.target.y, np.sqrt((self.agent_1.x - self.target.x)**2 + (self.agent_1.y - self.target.y)**2)])\n",
    "        \n",
    "        return observation\n",
    "    \n",
    "    def step(self, action, observation):\n",
    "        self.episode_step += 1\n",
    "        self.agent_1.action(action)\n",
    "        \n",
    "        new_observation = np.array([self.agent_1.x - self.target.x, self.agent_1.y - self.target.y, np.sqrt((self.agent_1.x - self.target.x)**2 + (self.agent_1.y - self.target.y)**2)])\n",
    "        \n",
    "        if self.agent_1 == self.target:\n",
    "            reward = 100\n",
    "            done = True\n",
    "        elif self.episode_step >= 200:\n",
    "            reward = -10\n",
    "            done = True\n",
    "        elif new_observation[2] < observation[2]:\n",
    "            reward = 1\n",
    "            done = False\n",
    "        elif new_observation[2] > observation[2]:\n",
    "            reward = -1\n",
    "            done = False\n",
    "            \n",
    "        return new_observation, reward, done\n",
    "        \n",
    "    def is_wall(self, action):\n",
    "            if self.walls[self.agent_1.y+action][self.agent_1.x+action] == 1:\n",
    "                return True\n",
    "    \n",
    "    def visualize(self):\n",
    "        for i in range(self.SIZE_Y):\n",
    "            for j in range(self.SIZE_X):\n",
    "                if self.walls[i][j] == 1:\n",
    "                    self.space[i][j] = self.WALLS_COLOR\n",
    "                else:\n",
    "                    self.space[i][j] = self.ENV_COLOR\n",
    "\n",
    "        self.space[self.agent_1.y][self.agent_1.x] = self.DRONE_COLOR\n",
    "        self.space[self.target.y][self.target.x] = self.TARGET_COLOR\n",
    "        \n",
    "    def render(self):\n",
    "        img = Image.fromarray(self.space, 'RGB')\n",
    "        img = img.resize((1200, 800), resample = Image.Resampling.BOX)\n",
    "        cv2.imshow(\"image\", np.array(img))  # show it!\n",
    "        cv2.waitKey(0)\n",
    "        cv2.destroyAllWindows()\n",
    "\n",
    "#crete the environment\n",
    "env = DroneEnv()"
   ]
  },
  {
   "cell_type": "code",
   "execution_count": 75,
   "metadata": {},
   "outputs": [
    {
     "name": "stdout",
     "output_type": "stream",
     "text": [
      "[[0 0 0 ... 0 0 0]\n",
      " [0 0 0 ... 0 0 0]\n",
      " [0 0 0 ... 0 0 0]\n",
      " ...\n",
      " [0 0 0 ... 0 0 0]\n",
      " [0 0 0 ... 0 0 0]\n",
      " [0 0 0 ... 0 0 0]]\n"
     ]
    }
   ],
   "source": [
    "map = env.walls\n",
    "print(map)"
   ]
  },
  {
   "cell_type": "code",
   "execution_count": 80,
   "metadata": {},
   "outputs": [
    {
     "name": "stdout",
     "output_type": "stream",
     "text": [
      "Target Pos: [12, 36]\n",
      "Agent Pos: [110, 8]\n"
     ]
    }
   ],
   "source": [
    "env.initial()\n",
    "target = [env.target.x, env.target.y]\n",
    "agent_1 = [env.agent_1.x, env.agent_1.y]\n",
    "print(\"Target Pos:\",target)\n",
    "print(\"Agent Pos:\",agent_1)"
   ]
  },
  {
   "attachments": {},
   "cell_type": "markdown",
   "metadata": {},
   "source": [
    "### Render Map"
   ]
  },
  {
   "cell_type": "code",
   "execution_count": 81,
   "metadata": {},
   "outputs": [
    {
     "name": "stdout",
     "output_type": "stream",
     "text": [
      "[ 98.         -28.         101.92153845]\n",
      "[ 97.         -29.         101.24228366] 1 False\n"
     ]
    }
   ],
   "source": [
    "print(env.initial())\n",
    "observation = env.initial()\n",
    "next_state, reward, done = env.step(1, observation)\n",
    "print(next_state, reward, done)\n",
    "env.visualize()\n",
    "env.render()"
   ]
  },
  {
   "attachments": {},
   "cell_type": "markdown",
   "metadata": {},
   "source": [
    "# Calculation"
   ]
  },
  {
   "attachments": {},
   "cell_type": "markdown",
   "metadata": {},
   "source": [
    "## Shortest Path Distance"
   ]
  },
  {
   "attachments": {},
   "cell_type": "markdown",
   "metadata": {},
   "source": [
    "Create vars"
   ]
  },
  {
   "cell_type": "code",
   "execution_count": 88,
   "metadata": {},
   "outputs": [],
   "source": [
    "grid = Grid(matrix=np.logical_not(map))\n",
    "start = grid.node(agent_1[0],agent_1[1])\n",
    "end = grid.node(target[0],target[1])"
   ]
  },
  {
   "cell_type": "code",
   "execution_count": 83,
   "metadata": {},
   "outputs": [],
   "source": [
    "finder = AStarFinder(diagonal_movement=DiagonalMovement.always)\n",
    "path, runs = finder.find_path(start, end, grid)"
   ]
  },
  {
   "cell_type": "code",
   "execution_count": 84,
   "metadata": {},
   "outputs": [
    {
     "name": "stdout",
     "output_type": "stream",
     "text": [
      "operations: 2642 path length: 107\n",
      "+------------------------------------------------------------------------------------------------------------------------+\n",
      "|                                                                                                    #                   |\n",
      "|                                                                                                    #                   |\n",
      "|                                                                                                    #                   |\n",
      "|                                                                                                    #                   |\n",
      "|                                                                                                    #                   |\n",
      "|                                                                                                    #                   |\n",
      "|                                                                                                    #                   |\n",
      "|                                                            xxxxxxxxxxxxxxxxxxxxx                   #                   |\n",
      "|                                                           x#####################x                  #         s         |\n",
      "|                                                          x #                   # x                 #        x          |\n",
      "|                                                         x  #                   #  x                #       x           |\n",
      "|                                                       xx   #                   #   x               #      x            |\n",
      "|                                                      x     #                   #    x              #     x             |\n",
      "|                                                     x      #                   #     x             #    x              |\n",
      "|                                                    x       #                   #      x            #   x               |\n",
      "|                                                   x        #                   #       x           #  x                |\n",
      "|#####################                             x         #                   #        x          # x                 |\n",
      "|                    #                           xx          #                   #         x         #x                  |\n",
      "|                    #                         xx            #                   #          x        #x                  |\n",
      "|                    #                        x              #                   #           x       #x                  |\n",
      "|                    #                       x               #                                x      #x                  |\n",
      "|                    #                      x                #                                 x     #x                  |\n",
      "|                    #                     x                 #                                  x    #x                  |\n",
      "|                    #                    x                  #                                   x   #x                  |\n",
      "|                    #                   x                   #                                    x  #x                  |\n",
      "|                    #                  x                    #                                     x #x                  |\n",
      "|                    #                 x #####################                                      xx       ############|\n",
      "|                    #                x  #                                                                               |\n",
      "|                    #               x   #                                                                               |\n",
      "|                    #              x    #                                                                               |\n",
      "|                    #             x     #                                                                               |\n",
      "|                    #            x      #                                                                               |\n",
      "|                       xxxxxxxxxx       #                                                                               |\n",
      "|                      x                 #                                                                               |\n",
      "|                   xxx                  #                                                                               |\n",
      "|                  x                     #                                                                               |\n",
      "|            exxxxx                      #                                                                               |\n",
      "|                                        #                                                                               |\n",
      "|                                        #                                                                               |\n",
      "|                                        #                                                                               |\n",
      "|                                        #                                                                               |\n",
      "|                                        #                                                                               |\n",
      "|####################                    #                                                                               |\n",
      "|                                        #                                                                               |\n",
      "|                                        #                                                                               |\n",
      "|                                        #                                                                               |\n",
      "|                                        #########################################                                       |\n",
      "|                                                                                #                                       |\n",
      "|                                                                                #                          #############|\n",
      "|                                                                                #                          #            |\n",
      "|                                                                                #                          #            |\n",
      "|                                                                                #                          #            |\n",
      "|                                                                                #                          #            |\n",
      "|                                                                                #                          #            |\n",
      "|                                                            #                   #                          #            |\n",
      "|                                                            #                   #                          #            |\n",
      "|                                                            #                   #                          #            |\n",
      "|                                                            #                   #                          #            |\n",
      "|                                                            #                   #                          #            |\n",
      "|                                                            #                   #                          #            |\n",
      "|                              #                             #                   #                          #            |\n",
      "|                              #                             #                   #                          #            |\n",
      "|                              #                             #                   ####################       #            |\n",
      "|                              #                             #                                              #            |\n",
      "|                              #                             #                                              #            |\n",
      "|                              #                             #                                              #            |\n",
      "|                              #                             #                                              #            |\n",
      "|                              #                             #                                              #            |\n",
      "|                              #                             #                                                           |\n",
      "|                              #                             #                                                           |\n",
      "|                              #                             #                                                           |\n",
      "|                              #                             #                                                           |\n",
      "|                              #                             #                                                           |\n",
      "|                              #                             #                                                           |\n",
      "|                              #                             #                                              #            |\n",
      "|                              #                             #                                              #            |\n",
      "|                              #                             #                                              #            |\n",
      "|                              #                             #                                              #            |\n",
      "|                              #                             #                                              #            |\n",
      "|                              #                             #                                              #            |\n",
      "+------------------------------------------------------------------------------------------------------------------------+\n"
     ]
    }
   ],
   "source": [
    "print('operations:', runs, 'path length:', len(path))\n",
    "print(grid.grid_str(path=path, start=start, end=end))"
   ]
  },
  {
   "attachments": {},
   "cell_type": "markdown",
   "metadata": {},
   "source": [
    "### Looping for each grid"
   ]
  },
  {
   "cell_type": "code",
   "execution_count": 85,
   "metadata": {},
   "outputs": [
    {
     "data": {
      "text/plain": [
       "(80, 120)"
      ]
     },
     "execution_count": 85,
     "metadata": {},
     "output_type": "execute_result"
    }
   ],
   "source": [
    "pathDist = np.zeros_like(map)\n",
    "pathDist.shape"
   ]
  },
  {
   "cell_type": "code",
   "execution_count": 89,
   "metadata": {},
   "outputs": [
    {
     "name": "stdout",
     "output_type": "stream",
     "text": [
      "grid: [0,0] operations: 369 path length: 46\n",
      "grid: [0,1] operations: 1 path length: 0\n",
      "grid: [0,2] operations: 1 path length: 0\n",
      "grid: [0,3] operations: 1 path length: 0\n",
      "grid: [0,4] operations: 1 path length: 0\n",
      "grid: [0,5] operations: 1 path length: 0\n",
      "grid: [0,6] operations: 1 path length: 0\n",
      "grid: [0,7] operations: 1 path length: 0\n",
      "grid: [0,8] operations: 1 path length: 0\n",
      "grid: [0,9] operations: 1 path length: 0\n",
      "grid: [0,10] operations: 1 path length: 0\n",
      "grid: [0,11] operations: 1 path length: 0\n",
      "grid: [0,12] operations: 1 path length: 0\n",
      "grid: [0,13] operations: 1 path length: 0\n",
      "grid: [0,14] operations: 1 path length: 0\n",
      "grid: [0,15] operations: 1 path length: 0\n"
     ]
    },
    {
     "ename": "ValueError",
     "evalue": "list.remove(x): x not in list",
     "output_type": "error",
     "traceback": [
      "\u001b[1;31m---------------------------------------------------------------------------\u001b[0m",
      "\u001b[1;31mValueError\u001b[0m                                Traceback (most recent call last)",
      "\u001b[1;32me:\\Project\\uav-rl-paper\\scripts\\path_dist\\pathdist.ipynb Cell 15\u001b[0m in \u001b[0;36m<module>\u001b[1;34m\u001b[0m\n\u001b[0;32m      <a href='vscode-notebook-cell:/e%3A/Project/uav-rl-paper/scripts/path_dist/pathdist.ipynb#X21sZmlsZQ%3D%3D?line=5'>6</a>\u001b[0m \u001b[39melse\u001b[39;00m:\n\u001b[0;32m      <a href='vscode-notebook-cell:/e%3A/Project/uav-rl-paper/scripts/path_dist/pathdist.ipynb#X21sZmlsZQ%3D%3D?line=6'>7</a>\u001b[0m     start \u001b[39m=\u001b[39m grid\u001b[39m.\u001b[39mnode(i,j)\n\u001b[1;32m----> <a href='vscode-notebook-cell:/e%3A/Project/uav-rl-paper/scripts/path_dist/pathdist.ipynb#X21sZmlsZQ%3D%3D?line=7'>8</a>\u001b[0m     path, runs \u001b[39m=\u001b[39m finder\u001b[39m.\u001b[39;49mfind_path(start, end, grid)\n\u001b[0;32m      <a href='vscode-notebook-cell:/e%3A/Project/uav-rl-paper/scripts/path_dist/pathdist.ipynb#X21sZmlsZQ%3D%3D?line=8'>9</a>\u001b[0m     \u001b[39mprint\u001b[39m(\u001b[39m'\u001b[39m\u001b[39mgrid: [\u001b[39m\u001b[39m'\u001b[39m\u001b[39m+\u001b[39m\u001b[39mstr\u001b[39m(i)\u001b[39m+\u001b[39m\u001b[39m'\u001b[39m\u001b[39m,\u001b[39m\u001b[39m'\u001b[39m\u001b[39m+\u001b[39m\u001b[39mstr\u001b[39m(j)\u001b[39m+\u001b[39m\u001b[39m'\u001b[39m\u001b[39m] operations:\u001b[39m\u001b[39m'\u001b[39m, runs, \u001b[39m'\u001b[39m\u001b[39mpath length:\u001b[39m\u001b[39m'\u001b[39m, \u001b[39mlen\u001b[39m(path))\n\u001b[0;32m     <a href='vscode-notebook-cell:/e%3A/Project/uav-rl-paper/scripts/path_dist/pathdist.ipynb#X21sZmlsZQ%3D%3D?line=9'>10</a>\u001b[0m     pathDist[i,j] \u001b[39m=\u001b[39m \u001b[39mlen\u001b[39m(path)\n",
      "File \u001b[1;32md:\\Compiler\\Python\\310\\lib\\site-packages\\pathfinding\\finder\\a_star.py:94\u001b[0m, in \u001b[0;36mAStarFinder.find_path\u001b[1;34m(self, start, end, grid)\u001b[0m\n\u001b[0;32m     92\u001b[0m start\u001b[39m.\u001b[39mg \u001b[39m=\u001b[39m \u001b[39m0\u001b[39m\n\u001b[0;32m     93\u001b[0m start\u001b[39m.\u001b[39mf \u001b[39m=\u001b[39m \u001b[39m0\u001b[39m\n\u001b[1;32m---> 94\u001b[0m \u001b[39mreturn\u001b[39;00m \u001b[39msuper\u001b[39;49m(AStarFinder, \u001b[39mself\u001b[39;49m)\u001b[39m.\u001b[39;49mfind_path(start, end, grid)\n",
      "File \u001b[1;32md:\\Compiler\\Python\\310\\lib\\site-packages\\pathfinding\\finder\\finder.py:175\u001b[0m, in \u001b[0;36mFinder.find_path\u001b[1;34m(self, start, end, grid)\u001b[0m\n\u001b[0;32m    172\u001b[0m \u001b[39mself\u001b[39m\u001b[39m.\u001b[39mruns \u001b[39m+\u001b[39m\u001b[39m=\u001b[39m \u001b[39m1\u001b[39m\n\u001b[0;32m    173\u001b[0m \u001b[39mself\u001b[39m\u001b[39m.\u001b[39mkeep_running()\n\u001b[1;32m--> 175\u001b[0m path \u001b[39m=\u001b[39m \u001b[39mself\u001b[39;49m\u001b[39m.\u001b[39;49mcheck_neighbors(start, end, grid, open_list)\n\u001b[0;32m    176\u001b[0m \u001b[39mif\u001b[39;00m path:\n\u001b[0;32m    177\u001b[0m     \u001b[39mreturn\u001b[39;00m path, \u001b[39mself\u001b[39m\u001b[39m.\u001b[39mruns\n",
      "File \u001b[1;32md:\\Compiler\\Python\\310\\lib\\site-packages\\pathfinding\\finder\\a_star.py:79\u001b[0m, in \u001b[0;36mAStarFinder.check_neighbors\u001b[1;34m(self, start, end, grid, open_list, open_value, backtrace_by)\u001b[0m\n\u001b[0;32m     75\u001b[0m             \u001b[39mreturn\u001b[39;00m bi_backtrace(neighbor, node)\n\u001b[0;32m     77\u001b[0m     \u001b[39m# check if the neighbor has not been inspected yet, or\u001b[39;00m\n\u001b[0;32m     78\u001b[0m     \u001b[39m# can be reached with smaller cost from the current node\u001b[39;00m\n\u001b[1;32m---> 79\u001b[0m     \u001b[39mself\u001b[39;49m\u001b[39m.\u001b[39;49mprocess_node(neighbor, node, end, open_list, open_value)\n\u001b[0;32m     81\u001b[0m \u001b[39m# the end has not been reached (yet) keep the find_path loop running\u001b[39;00m\n\u001b[0;32m     82\u001b[0m \u001b[39mreturn\u001b[39;00m \u001b[39mNone\u001b[39;00m\n",
      "File \u001b[1;32md:\\Compiler\\Python\\310\\lib\\site-packages\\pathfinding\\finder\\finder.py:139\u001b[0m, in \u001b[0;36mFinder.process_node\u001b[1;34m(self, node, parent, end, open_list, open_value)\u001b[0m\n\u001b[0;32m    134\u001b[0m     node\u001b[39m.\u001b[39mopened \u001b[39m=\u001b[39m open_value\n\u001b[0;32m    135\u001b[0m \u001b[39melse\u001b[39;00m:\n\u001b[0;32m    136\u001b[0m     \u001b[39m# the node can be reached with smaller cost.\u001b[39;00m\n\u001b[0;32m    137\u001b[0m     \u001b[39m# Since its f value has been updated, we have to\u001b[39;00m\n\u001b[0;32m    138\u001b[0m     \u001b[39m# update its position in the open list\u001b[39;00m\n\u001b[1;32m--> 139\u001b[0m     open_list\u001b[39m.\u001b[39;49mremove(node)\n\u001b[0;32m    140\u001b[0m     heapq\u001b[39m.\u001b[39mheappush(open_list, node)\n",
      "\u001b[1;31mValueError\u001b[0m: list.remove(x): x not in list"
     ]
    }
   ],
   "source": [
    "finder = AStarFinder(diagonal_movement=DiagonalMovement.always)\n",
    "for i in range(pathDist.shape[0]):\n",
    "    for j in range(pathDist.shape[1]):\n",
    "        if map[i,j] == 1:\n",
    "            pathDist[i,j] = 0\n",
    "        else:\n",
    "            start = grid.node(i,j)\n",
    "            path, runs = finder.find_path(start, end, grid)\n",
    "            print('grid: ['+str(i)+','+str(j)+'] operations:', runs, 'path length:', len(path))\n",
    "            pathDist[i,j] = len(path)\n",
    "            "
   ]
  },
  {
   "cell_type": "code",
   "execution_count": null,
   "metadata": {},
   "outputs": [],
   "source": []
  }
 ],
 "metadata": {
  "kernelspec": {
   "display_name": "Python 3",
   "language": "python",
   "name": "python3"
  },
  "language_info": {
   "codemirror_mode": {
    "name": "ipython",
    "version": 3
   },
   "file_extension": ".py",
   "mimetype": "text/x-python",
   "name": "python",
   "nbconvert_exporter": "python",
   "pygments_lexer": "ipython3",
   "version": "3.10.9"
  },
  "orig_nbformat": 4,
  "vscode": {
   "interpreter": {
    "hash": "ee6227b8ad8273db981c37f14a5b5490b445921b59a9c0af549815d41b87a2f6"
   }
  }
 },
 "nbformat": 4,
 "nbformat_minor": 2
}
