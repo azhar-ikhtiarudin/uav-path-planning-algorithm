{
 "cells": [
  {
   "cell_type": "code",
   "execution_count": 1,
   "metadata": {},
   "outputs": [],
   "source": [
    "import random\n",
    "import numpy as np\n",
    "import matplotlib as plt\n",
    "import pandas as pd\n",
    "from PIL import Image\n",
    "import os\n",
    "import cv2\n",
    "from pathfinding.core.diagonal_movement import DiagonalMovement\n",
    "from pathfinding.core.grid import Grid\n",
    "from pathfinding.finder.a_star import AStarFinder"
   ]
  },
  {
   "cell_type": "code",
   "execution_count": 2,
   "metadata": {},
   "outputs": [],
   "source": [
    "SIZE_Y = 40*2\n",
    "SIZE_X = 60*2\n",
    "\n",
    "#Define Functions and Classes\n",
    "\n",
    "def createLine(walls, SIZE_Y, SIZE_X):\n",
    "    #Full Horizontal Line\n",
    "    # for i in range(SIZE_X):\n",
    "    #     walls[int(SIZE_Y/2),int(i)] = 1\n",
    "        \n",
    "    #Full Vertical Line\n",
    "    # for i in range(SIZE_Y):\n",
    "        # walls[int(i), int(SIZE_X/2)] = 1\n",
    "\n",
    "    #Segment 1\n",
    "    for i in range(SIZE_Y//10, SIZE_Y//3):\n",
    "        walls[i, SIZE_X//2] = 1\n",
    "\n",
    "    #Segment 2\n",
    "    for i in range(SIZE_X//2, SIZE_X//2+SIZE_X//6):\n",
    "        walls[SIZE_Y//10, i] = 1\n",
    "\n",
    "    #Segment 3\n",
    "    for i in range(SIZE_Y//10, SIZE_Y//4):\n",
    "        walls[i, SIZE_X//2+SIZE_X//6] = 1\n",
    "\n",
    "    #Segment 4\n",
    "    for i in range(SIZE_X//2-SIZE_X//6, SIZE_X//2+1):\n",
    "        walls[SIZE_Y//3, i] = 1\n",
    "\n",
    "    #Segment 5\n",
    "    for i in range(SIZE_Y//3, SIZE_Y//3+SIZE_Y//4):\n",
    "        walls[i, SIZE_X//2-SIZE_X//6] = 1\n",
    "\n",
    "    #Segment 6\n",
    "    for i in range(SIZE_X//2-SIZE_X//6, SIZE_X//2+SIZE_X//6):\n",
    "        walls[SIZE_Y//3+SIZE_Y//4, i] = 1\n",
    "        \n",
    "    #Segment 7\n",
    "    for i in range(SIZE_Y//3+SIZE_Y//4, SIZE_Y//3+SIZE_Y//4+SIZE_Y//5):\n",
    "        walls[i, SIZE_X//2+SIZE_X//6] = 1\n",
    "\n",
    "    #Segment 8\n",
    "    for i in range(SIZE_X//2+SIZE_X//6, SIZE_X//2+SIZE_X//6+SIZE_X//6):\n",
    "        walls[SIZE_Y//3+SIZE_Y//4+SIZE_Y//5, i] = 1\n",
    "\n",
    "    #Segment 9\n",
    "    for i in range(SIZE_Y-SIZE_Y//3, SIZE_Y):\n",
    "        walls[i, SIZE_X//2] = 1\n",
    "        \n",
    "    #Segment 10\n",
    "    for i in range(SIZE_Y-SIZE_Y//4, SIZE_Y):\n",
    "        walls[i, SIZE_X//2-SIZE_X//4] = 1\n",
    "\n",
    "    #Segment 11\n",
    "    for i in range(0, SIZE_X//6):\n",
    "        walls[SIZE_Y//5, i] = 1\n",
    "\n",
    "    #Segment 12\n",
    "    for i in range(SIZE_Y//5, SIZE_Y//5+SIZE_Y//5):\n",
    "        walls[i, SIZE_X//6] = 1\n",
    "\n",
    "    #Segment 13\n",
    "    for i in range(0, SIZE_X//6):\n",
    "        walls[SIZE_Y//5+SIZE_Y//3, i] = 1\n",
    "        \n",
    "    #Segment 14\n",
    "    for i in range(0, SIZE_Y//3):\n",
    "        walls[i, SIZE_X-SIZE_X//6] = 1\n",
    "\n",
    "    #Segment 15\n",
    "    for i in range(SIZE_X-SIZE_X//10, SIZE_X):\n",
    "        walls[SIZE_Y//3, i] = 1\n",
    "\n",
    "    #Segment 16\n",
    "    for i in range(SIZE_X-SIZE_X//9, SIZE_X):\n",
    "        walls[SIZE_Y//2+SIZE_Y//10, i] = 1\n",
    "\n",
    "    #Segment 17\n",
    "    for i in range(SIZE_Y//2+SIZE_Y//10, SIZE_Y//2+SIZE_Y//10+SIZE_Y//4):\n",
    "        walls[i, SIZE_X-SIZE_X//9] = 1\n",
    "        \n",
    "    #Segment 18\n",
    "    for i in range(SIZE_Y//2+SIZE_Y//10+SIZE_Y//3, SIZE_Y):\n",
    "        walls[i, SIZE_X-SIZE_X//9] = 1\n",
    "    \n",
    "    return walls\n",
    "\n",
    "class EnvObject:\n",
    "    def __init__(self, x, y):\n",
    "        self.x = x\n",
    "        self.y = y\n",
    "\n",
    "    def __str__(self):\n",
    "        return f\"{self.x}, {self.y}\"\n",
    "    \n",
    "    def __sub__(self, other):\n",
    "        return (self.x - other.x, self.y - other.y)\n",
    "    \n",
    "    def __eq__(self, other):\n",
    "        return self.x == other.x and self.y == other.y\n",
    "    \n",
    "class Drone(EnvObject):\n",
    "    def __init__(self, x, y):\n",
    "        super().__init__(x, y)\n",
    "        \n",
    "    def action(self, choice):\n",
    "        '''\n",
    "        Gives us 9 total movement options. (0,1,2,3,4,5,6,7,8)\n",
    "        '''\n",
    "        if choice == 0:\n",
    "            self.move(x=1, y=1)\n",
    "        elif choice == 1:\n",
    "            self.move(x=-1, y=-1)\n",
    "        elif choice == 2:\n",
    "            self.move(x=-1, y=1)\n",
    "        elif choice == 3:\n",
    "            self.move(x=1, y=-1)\n",
    "\n",
    "        elif choice == 4:\n",
    "            self.move(x=1, y=0)\n",
    "        elif choice == 5:\n",
    "            self.move(x=-1, y=0)\n",
    "\n",
    "        elif choice == 6:\n",
    "            self.move(x=0, y=1)\n",
    "        elif choice == 7:\n",
    "            self.move(x=0, y=-1)\n",
    "\n",
    "        elif choice == 8:\n",
    "            self.move(x=0, y=0)\n",
    "\n",
    "    def move(self, x=False, y=False):\n",
    "\n",
    "        # If no value for x, move randomly\n",
    "        if not x:\n",
    "            self.x += np.random.randint(-1, 2)\n",
    "        else:\n",
    "            self.x += x\n",
    "\n",
    "        # If no value for y, move randomly\n",
    "        if not y:\n",
    "            self.y += np.random.randint(-1, 2)\n",
    "        else:\n",
    "            self.y += y\n",
    "\n",
    "\n",
    "        # If we are out of bounds, fix!\n",
    "        if self.x < 0:\n",
    "            self.x = 0\n",
    "        elif self.x > SIZE_X-1:\n",
    "            self.x = SIZE_X-1\n",
    "        if self.y < 0:\n",
    "            self.y = 0\n",
    "        elif self.y > SIZE_Y-1:\n",
    "            self.y = SIZE_Y-1\n",
    "\n",
    "class Target(EnvObject):\n",
    "    def __init__(self, x, y):\n",
    "        super().__init__(x, y)\n",
    "\n",
    "class DroneEnv:\n",
    "    #Define Parameters\n",
    "    SIZE_Y = 40*2\n",
    "    SIZE_X = 60*2\n",
    "    ENV_COLOR = (20, 52, 89)\n",
    "    WALLS_COLOR = (77, 77, 234)\n",
    "    DRONE_COLOR = (234, 222, 53)\n",
    "    TARGET_COLOR = (132, 234, 53)\n",
    "    space = np.zeros((SIZE_Y, SIZE_X, 3), dtype=np.uint8) \n",
    "    walls = np.zeros((SIZE_Y, SIZE_X), dtype=np.uint8)\n",
    "    walls = createLine(walls, SIZE_Y, SIZE_X)\n",
    "\n",
    "\n",
    "    def initial(self):\n",
    "        self.agent_1 = Drone(self.SIZE_X-self.SIZE_X//11, self.SIZE_Y//10)\n",
    "        self.agent_2 = Drone(self.SIZE_X-self.SIZE_X//20, self.SIZE_Y//2-self.SIZE_Y//20)\n",
    "        self.agent_3 = Drone(self.SIZE_X-self.SIZE_X//13, self.SIZE_Y-self.SIZE_Y//11)\n",
    "        self.target = Target(self.SIZE_X//10, self.SIZE_Y//2-self.SIZE_Y//20)\n",
    "        \n",
    "        self.episode_step = 0\n",
    "        # observation = (self.agent_1.x - self.target.x) + (self.agent_1.y - self.target.y) + np.sqrt((self.agent_1.x - self.target.x)**2 + (self.agent_1.y - self.target.y)**2)\n",
    "        observation = np.array([self.agent_1.x - self.target.x, self.agent_1.y - self.target.y, np.sqrt((self.agent_1.x - self.target.x)**2 + (self.agent_1.y - self.target.y)**2)])\n",
    "        \n",
    "        return observation\n",
    "    \n",
    "    def step(self, action, observation):\n",
    "        self.episode_step += 1\n",
    "        self.agent_1.action(action)\n",
    "        \n",
    "        new_observation = np.array([self.agent_1.x - self.target.x, self.agent_1.y - self.target.y, np.sqrt((self.agent_1.x - self.target.x)**2 + (self.agent_1.y - self.target.y)**2)])\n",
    "        \n",
    "        if self.agent_1 == self.target:\n",
    "            reward = 100\n",
    "            done = True\n",
    "        elif self.episode_step >= 200:\n",
    "            reward = -10\n",
    "            done = True\n",
    "        elif new_observation[2] < observation[2]:\n",
    "            reward = 1\n",
    "            done = False\n",
    "        elif new_observation[2] > observation[2]:\n",
    "            reward = -1\n",
    "            done = False\n",
    "            \n",
    "        return new_observation, reward, done\n",
    "        \n",
    "    def is_wall(self, action):\n",
    "            if self.walls[self.agent_1.y+action][self.agent_1.x+action] == 1:\n",
    "                return True\n",
    "    \n",
    "    def visualize(self):\n",
    "        for i in range(self.SIZE_Y):\n",
    "            for j in range(self.SIZE_X):\n",
    "                if self.walls[i][j] == 1:\n",
    "                    self.space[i][j] = self.WALLS_COLOR\n",
    "                else:\n",
    "                    self.space[i][j] = self.ENV_COLOR\n",
    "\n",
    "        self.space[self.agent_1.y][self.agent_1.x] = self.DRONE_COLOR\n",
    "        self.space[self.target.y][self.target.x] = self.TARGET_COLOR\n",
    "        \n",
    "    def render(self):\n",
    "        img = Image.fromarray(self.space, 'RGB')\n",
    "        img = img.resize((1200, 800), resample = Image.Resampling.BOX)\n",
    "        cv2.imshow(\"image\", np.array(img))  # show it!\n",
    "        cv2.waitKey(0)\n",
    "        cv2.destroyAllWindows()\n",
    "\n",
    "#crete the environment\n",
    "env = DroneEnv()"
   ]
  },
  {
   "cell_type": "code",
   "execution_count": 3,
   "metadata": {},
   "outputs": [
    {
     "name": "stdout",
     "output_type": "stream",
     "text": [
      "[[0 0 0 ... 0 0 0]\n",
      " [0 0 0 ... 0 0 0]\n",
      " [0 0 0 ... 0 0 0]\n",
      " ...\n",
      " [0 0 0 ... 0 0 0]\n",
      " [0 0 0 ... 0 0 0]\n",
      " [0 0 0 ... 0 0 0]]\n"
     ]
    }
   ],
   "source": [
    "map = env.walls\n",
    "print(map)"
   ]
  },
  {
   "cell_type": "code",
   "execution_count": 4,
   "metadata": {},
   "outputs": [
    {
     "name": "stdout",
     "output_type": "stream",
     "text": [
      "Target Pos: [12, 36]\n",
      "Agent Pos: [110, 8]\n"
     ]
    }
   ],
   "source": [
    "env.initial()\n",
    "target = [env.target.x, env.target.y]\n",
    "agent_1 = [env.agent_1.x, env.agent_1.y]\n",
    "print(\"Target Pos:\",target)\n",
    "print(\"Agent Pos:\",agent_1)"
   ]
  },
  {
   "attachments": {},
   "cell_type": "markdown",
   "metadata": {},
   "source": [
    "### Render Map"
   ]
  },
  {
   "cell_type": "code",
   "execution_count": 5,
   "metadata": {},
   "outputs": [
    {
     "name": "stdout",
     "output_type": "stream",
     "text": [
      "[ 98.         -28.         101.92153845]\n",
      "[ 97.         -29.         101.24228366] 1 False\n"
     ]
    }
   ],
   "source": [
    "print(env.initial())\n",
    "observation = env.initial()\n",
    "next_state, reward, done = env.step(1, observation)\n",
    "print(next_state, reward, done)\n",
    "env.visualize()\n",
    "env.render()"
   ]
  },
  {
   "attachments": {},
   "cell_type": "markdown",
   "metadata": {},
   "source": [
    "# Calculation"
   ]
  },
  {
   "attachments": {},
   "cell_type": "markdown",
   "metadata": {},
   "source": [
    "## Shortest Path Distance"
   ]
  },
  {
   "attachments": {},
   "cell_type": "markdown",
   "metadata": {},
   "source": [
    "Create vars"
   ]
  },
  {
   "cell_type": "code",
   "execution_count": 12,
   "metadata": {},
   "outputs": [],
   "source": [
    "grid = Grid(matrix=np.logical_not(map))\n",
    "start = grid.node(agent_1[0],agent_1[1])\n",
    "end = grid.node(target[0],target[1])"
   ]
  },
  {
   "cell_type": "code",
   "execution_count": 13,
   "metadata": {},
   "outputs": [],
   "source": [
    "finder = AStarFinder(diagonal_movement=DiagonalMovement.always)\n",
    "path, runs = finder.find_path(start, end, grid)"
   ]
  },
  {
   "cell_type": "code",
   "execution_count": 14,
   "metadata": {},
   "outputs": [
    {
     "name": "stdout",
     "output_type": "stream",
     "text": [
      "operations: 2642 path length: 107\n",
      "+------------------------------------------------------------------------------------------------------------------------+\n",
      "|                                                                                                    #                   |\n",
      "|                                                                                                    #                   |\n",
      "|                                                                                                    #                   |\n",
      "|                                                                                                    #                   |\n",
      "|                                                                                                    #                   |\n",
      "|                                                                                                    #                   |\n",
      "|                                                                                                    #                   |\n",
      "|                                                            xxxxxxxxxxxxxxxxxxxxx                   #                   |\n",
      "|                                                           x#####################x                  #         s         |\n",
      "|                                                          x #                   # x                 #        x          |\n",
      "|                                                         x  #                   #  x                #       x           |\n",
      "|                                                       xx   #                   #   x               #      x            |\n",
      "|                                                      x     #                   #    x              #     x             |\n",
      "|                                                     x      #                   #     x             #    x              |\n",
      "|                                                    x       #                   #      x            #   x               |\n",
      "|                                                   x        #                   #       x           #  x                |\n",
      "|#####################                             x         #                   #        x          # x                 |\n",
      "|                    #                           xx          #                   #         x         #x                  |\n",
      "|                    #                         xx            #                   #          x        #x                  |\n",
      "|                    #                        x              #                   #           x       #x                  |\n",
      "|                    #                       x               #                                x      #x                  |\n",
      "|                    #                      x                #                                 x     #x                  |\n",
      "|                    #                     x                 #                                  x    #x                  |\n",
      "|                    #                    x                  #                                   x   #x                  |\n",
      "|                    #                   x                   #                                    x  #x                  |\n",
      "|                    #                  x                    #                                     x #x                  |\n",
      "|                    #                 x #####################                                      xx       ############|\n",
      "|                    #                x  #                                                                               |\n",
      "|                    #               x   #                                                                               |\n",
      "|                    #              x    #                                                                               |\n",
      "|                    #             x     #                                                                               |\n",
      "|                    #            x      #                                                                               |\n",
      "|                       xxxxxxxxxx       #                                                                               |\n",
      "|                      x                 #                                                                               |\n",
      "|                   xxx                  #                                                                               |\n",
      "|                  x                     #                                                                               |\n",
      "|            exxxxx                      #                                                                               |\n",
      "|                                        #                                                                               |\n",
      "|                                        #                                                                               |\n",
      "|                                        #                                                                               |\n",
      "|                                        #                                                                               |\n",
      "|                                        #                                                                               |\n",
      "|####################                    #                                                                               |\n",
      "|                                        #                                                                               |\n",
      "|                                        #                                                                               |\n",
      "|                                        #                                                                               |\n",
      "|                                        #########################################                                       |\n",
      "|                                                                                #                                       |\n",
      "|                                                                                #                          #############|\n",
      "|                                                                                #                          #            |\n",
      "|                                                                                #                          #            |\n",
      "|                                                                                #                          #            |\n",
      "|                                                                                #                          #            |\n",
      "|                                                                                #                          #            |\n",
      "|                                                            #                   #                          #            |\n",
      "|                                                            #                   #                          #            |\n",
      "|                                                            #                   #                          #            |\n",
      "|                                                            #                   #                          #            |\n",
      "|                                                            #                   #                          #            |\n",
      "|                                                            #                   #                          #            |\n",
      "|                              #                             #                   #                          #            |\n",
      "|                              #                             #                   #                          #            |\n",
      "|                              #                             #                   ####################       #            |\n",
      "|                              #                             #                                              #            |\n",
      "|                              #                             #                                              #            |\n",
      "|                              #                             #                                              #            |\n",
      "|                              #                             #                                              #            |\n",
      "|                              #                             #                                              #            |\n",
      "|                              #                             #                                                           |\n",
      "|                              #                             #                                                           |\n",
      "|                              #                             #                                                           |\n",
      "|                              #                             #                                                           |\n",
      "|                              #                             #                                                           |\n",
      "|                              #                             #                                                           |\n",
      "|                              #                             #                                              #            |\n",
      "|                              #                             #                                              #            |\n",
      "|                              #                             #                                              #            |\n",
      "|                              #                             #                                              #            |\n",
      "|                              #                             #                                              #            |\n",
      "|                              #                             #                                              #            |\n",
      "+------------------------------------------------------------------------------------------------------------------------+\n"
     ]
    }
   ],
   "source": [
    "print('operations:', runs, 'path length:', len(path))\n",
    "print(grid.grid_str(path=path, start=start, end=end))"
   ]
  },
  {
   "attachments": {},
   "cell_type": "markdown",
   "metadata": {},
   "source": [
    "### Looping for each grid"
   ]
  },
  {
   "cell_type": "code",
   "execution_count": 9,
   "metadata": {},
   "outputs": [
    {
     "data": {
      "text/plain": [
       "(80, 120)"
      ]
     },
     "execution_count": 9,
     "metadata": {},
     "output_type": "execute_result"
    }
   ],
   "source": [
    "pathDist = np.zeros_like(map)\n",
    "pathDist.shape"
   ]
  },
  {
   "cell_type": "code",
   "execution_count": 21,
   "metadata": {},
   "outputs": [
    {
     "name": "stdout",
     "output_type": "stream",
     "text": [
      "grid: [0,0] operations: 369 path length:53.70\n",
      "grid: [0,1] operations: 369 path length:52.70\n",
      "grid: [0,2] operations: 369 path length:51.70\n",
      "grid: [0,3] operations: 369 path length:50.70\n",
      "grid: [0,4] operations: 369 path length:49.70\n",
      "grid: [0,5] operations: 369 path length:48.70\n",
      "grid: [0,6] operations: 376 "
     ]
    },
    {
     "ename": "",
     "evalue": "",
     "output_type": "error",
     "traceback": [
      "\u001b[1;31mCanceled future for execute_request message before replies were done"
     ]
    },
    {
     "ename": "",
     "evalue": "",
     "output_type": "error",
     "traceback": [
      "\u001b[1;31mThe Kernel crashed while executing code in the the current cell or a previous cell. Please review the code in the cell(s) to identify a possible cause of the failure. Click <a href='https://aka.ms/vscodeJupyterKernelCrash'>here</a> for more info. View Jupyter <a href='command:jupyter.viewOutput'>log</a> for further details."
     ]
    }
   ],
   "source": [
    "for i in range(pathDist.shape[0]):\n",
    "    for j in range(pathDist.shape[1]):\n",
    "        if map[i,j] == 1:\n",
    "            pathDist[i,j] = 0\n",
    "        else:\n",
    "            # init pathfinder\n",
    "            grid = Grid(matrix=np.logical_not(map))\n",
    "            end = grid.node(x=target[0],y=target[1])\n",
    "            start = grid.node(j,i)\n",
    "            finder = AStarFinder(diagonal_movement=DiagonalMovement.always)\n",
    "            path, runs = finder.find_path(start, end, grid)\n",
    "\n",
    "            # Calculate path length (NOT path array length)\n",
    "            length = 0\n",
    "            for k in range(len(path)-1):\n",
    "                length += np.sqrt((path[k][0] - path[k+1][0])**2 + (path[k][1] - path[k+1][1])**2)\n",
    "            print('grid: ['+str(i)+','+str(j)+'] operations:', runs, 'path length:{:.2f}'.format(length))\n",
    "            pathDist[i,j] = length\n",
    "            \n",
    "            "
   ]
  },
  {
   "cell_type": "code",
   "execution_count": null,
   "metadata": {},
   "outputs": [],
   "source": [
    "# DF = pd.DataFrame(pathDist)\n",
    "# DF.to_csv('pathDist.csv', index=False, header=False)\n",
    "# print(pathDist)"
   ]
  },
  {
   "attachments": {},
   "cell_type": "markdown",
   "metadata": {},
   "source": [
    "# Visualization"
   ]
  },
  {
   "cell_type": "code",
   "execution_count": 1,
   "metadata": {},
   "outputs": [],
   "source": [
    "import pandas as pd\n",
    "import matplotlib.pyplot as plt"
   ]
  },
  {
   "cell_type": "code",
   "execution_count": 6,
   "metadata": {},
   "outputs": [
    {
     "data": {
      "text/plain": [
       "<matplotlib.image.AxesImage at 0x1dd452adc90>"
      ]
     },
     "execution_count": 6,
     "metadata": {},
     "output_type": "execute_result"
    },
    {
     "data": {
      "image/png": "[encoded data removed]",
      "text/plain": [
       "<Figure size 432x288 with 1 Axes>"
      ]
     },
     "metadata": {
      "needs_background": "light"
     },
     "output_type": "display_data"
    }
   ],
   "source": [
    "pathDist = pd.read_csv('pathDist.csv', header=None, dtype='int32')\n",
    "plt.imshow(pathDist, cmap='hot', interpolation='nearest')"
   ]
  }
 ],
 "metadata": {
  "kernelspec": {
   "display_name": "Python 3",
   "language": "python",
   "name": "python3"
  },
  "language_info": {
   "codemirror_mode": {
    "name": "ipython",
    "version": 3
   },
   "file_extension": ".py",
   "mimetype": "text/x-python",
   "name": "python",
   "nbconvert_exporter": "python",
   "pygments_lexer": "ipython3",
   "version": "3.10.9 (tags/v3.10.9:1dd9be6, Dec  6 2022, 20:01:21) [MSC v.1934 64 bit (AMD64)]"
  },
  "orig_nbformat": 4,
  "vscode": {
   "interpreter": {
    "hash": "93f50a786178c234f0b1bff3476f651981df4cf2b8433153d2ab7805044c9624"
   }
  }
 },
 "nbformat": 4,
 "nbformat_minor": 2
}
