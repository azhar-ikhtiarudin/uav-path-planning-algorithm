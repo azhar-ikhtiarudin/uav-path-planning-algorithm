{
 "cells": [
  {
   "cell_type": "code",
   "execution_count": 25,
   "metadata": {},
   "outputs": [
    {
     "name": "stdout",
     "output_type": "stream",
     "text": [
      "python E:/Project/uav-rl-paper/scripts/png2gif/png2gif.py -p episode_1\n",
      "python E:/Project/uav-rl-paper/scripts/png2gif/png2gif.py -p episode_50\n",
      "python E:/Project/uav-rl-paper/scripts/png2gif/png2gif.py -p episode_100\n",
      "python E:/Project/uav-rl-paper/scripts/png2gif/png2gif.py -p episode_150\n",
      "python E:/Project/uav-rl-paper/scripts/png2gif/png2gif.py -p episode_200\n",
      "python E:/Project/uav-rl-paper/scripts/png2gif/png2gif.py -p episode_250\n",
      "python E:/Project/uav-rl-paper/scripts/png2gif/png2gif.py -p episode_300\n",
      "python E:/Project/uav-rl-paper/scripts/png2gif/png2gif.py -p episode_350\n",
      "python E:/Project/uav-rl-paper/scripts/png2gif/png2gif.py -p episode_400\n",
      "python E:/Project/uav-rl-paper/scripts/png2gif/png2gif.py -p episode_450\n",
      "python E:/Project/uav-rl-paper/scripts/png2gif/png2gif.py -p episode_500\n",
      "python E:/Project/uav-rl-paper/scripts/png2gif/png2gif.py -p episode_550\n",
      "python E:/Project/uav-rl-paper/scripts/png2gif/png2gif.py -p episode_600\n",
      "python E:/Project/uav-rl-paper/scripts/png2gif/png2gif.py -p episode_650\n",
      "python E:/Project/uav-rl-paper/scripts/png2gif/png2gif.py -p episode_700\n",
      "python E:/Project/uav-rl-paper/scripts/png2gif/png2gif.py -p episode_750\n",
      "python E:/Project/uav-rl-paper/scripts/png2gif/png2gif.py -p episode_800\n",
      "python E:/Project/uav-rl-paper/scripts/png2gif/png2gif.py -p episode_850\n",
      "python E:/Project/uav-rl-paper/scripts/png2gif/png2gif.py -p episode_900\n",
      "python E:/Project/uav-rl-paper/scripts/png2gif/png2gif.py -p episode_950\n",
      "python E:/Project/uav-rl-paper/scripts/png2gif/png2gif.py -p episode_1000\n",
      "python E:/Project/uav-rl-paper/scripts/png2gif/png2gif.py -p episode_1050\n",
      "python E:/Project/uav-rl-paper/scripts/png2gif/png2gif.py -p episode_1100\n",
      "python E:/Project/uav-rl-paper/scripts/png2gif/png2gif.py -p episode_1150\n",
      "python E:/Project/uav-rl-paper/scripts/png2gif/png2gif.py -p episode_1200\n",
      "python E:/Project/uav-rl-paper/scripts/png2gif/png2gif.py -p episode_1250\n",
      "python E:/Project/uav-rl-paper/scripts/png2gif/png2gif.py -p episode_1300\n",
      "python E:/Project/uav-rl-paper/scripts/png2gif/png2gif.py -p episode_1350\n",
      "python E:/Project/uav-rl-paper/scripts/png2gif/png2gif.py -p episode_1400\n",
      "python E:/Project/uav-rl-paper/scripts/png2gif/png2gif.py -p episode_1450\n",
      "python E:/Project/uav-rl-paper/scripts/png2gif/png2gif.py -p episode_1500\n",
      "python E:/Project/uav-rl-paper/scripts/png2gif/png2gif.py -p episode_1550\n",
      "python E:/Project/uav-rl-paper/scripts/png2gif/png2gif.py -p episode_1600\n",
      "python E:/Project/uav-rl-paper/scripts/png2gif/png2gif.py -p episode_1650\n",
      "python E:/Project/uav-rl-paper/scripts/png2gif/png2gif.py -p episode_1700\n",
      "python E:/Project/uav-rl-paper/scripts/png2gif/png2gif.py -p episode_1750\n",
      "python E:/Project/uav-rl-paper/scripts/png2gif/png2gif.py -p episode_1800\n",
      "python E:/Project/uav-rl-paper/scripts/png2gif/png2gif.py -p episode_1850\n",
      "python E:/Project/uav-rl-paper/scripts/png2gif/png2gif.py -p episode_1900\n",
      "python E:/Project/uav-rl-paper/scripts/png2gif/png2gif.py -p episode_1950\n",
      "python E:/Project/uav-rl-paper/scripts/png2gif/png2gif.py -p episode_2000\n"
     ]
    }
   ],
   "source": [
    "import os\n",
    "from natsort import os_sorted\n",
    "rootdir = 'F:/OneDrive - Institut Teknologi Bandung/College/Paper/UAV Deep QL - Axel/Result/content/images/2023_01_23-10_52single_m30x20_ProportionalDecay_noAFK'\n",
    "\n",
    "for subdir, dirs, files in os.walk(rootdir):\n",
    "    for dirname in os_sorted(dirs):\n",
    "        print(f'python E:/Project/uav-rl-paper/scripts/png2gif/png2gif.py -p {dirname}')\n",
    "        !python png2gif.py -p \"{dirname}\"\n"
   ]
  }
 ],
 "metadata": {
  "kernelspec": {
   "display_name": "Python 3",
   "language": "python",
   "name": "python3"
  },
  "language_info": {
   "codemirror_mode": {
    "name": "ipython",
    "version": 3
   },
   "file_extension": ".py",
   "mimetype": "text/x-python",
   "name": "python",
   "nbconvert_exporter": "python",
   "pygments_lexer": "ipython3",
   "version": "3.10.9"
  },
  "orig_nbformat": 4,
  "vscode": {
   "interpreter": {
    "hash": "ee6227b8ad8273db981c37f14a5b5490b445921b59a9c0af549815d41b87a2f6"
   }
  }
 },
 "nbformat": 4,
 "nbformat_minor": 2
}
