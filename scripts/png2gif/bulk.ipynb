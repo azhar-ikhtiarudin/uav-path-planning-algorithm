{
 "cells": [
  {
   "cell_type": "code",
   "execution_count": 1,
   "metadata": {},
   "outputs": [
    {
     "ename": "SyntaxError",
     "evalue": "(unicode error) 'unicodeescape' codec can't decode bytes in position 18-20: truncated \\uXXXX escape (1012389410.py, line 3)",
     "output_type": "error",
     "traceback": [
      "\u001b[1;36m  Input \u001b[1;32mIn [1]\u001b[1;36m\u001b[0m\n\u001b[1;33m    rootdir = 'D:\\[Project]\\[Dev]\\uav-rl-paper-2\\uav-rl-paper\\outputs\\images\\qn_multistate-3\\episode_1'\u001b[0m\n\u001b[1;37m                                                                                                       ^\u001b[0m\n\u001b[1;31mSyntaxError\u001b[0m\u001b[1;31m:\u001b[0m (unicode error) 'unicodeescape' codec can't decode bytes in position 18-20: truncated \\uXXXX escape\n"
     ]
    }
   ],
   "source": [
    "import os\n",
    "from natsort import os_sorted\n",
    "rootdir = 'D:\\[Project]\\[Dev]\\uav-rl-paper-2\\uav-rl-paper\\outputs\\images\\qn_multistate-3\\episode_1'\n",
    "\n",
    "for subdir, dirs, files in os.walk(rootdir):\n",
    "    for dirname in os_sorted(dirs):\n",
    "        print(f'python png2gif.py -p \\\"{rootdir}{os.sep}{dirname}\\\"')\n",
    "        !python png2gif.py -p \"{rootdir}{os.sep}{dirname}\" -fps 100\n"
   ]
  },
  {
   "cell_type": "markdown",
   "metadata": {},
   "source": []
  }
 ],
 "metadata": {
  "kernelspec": {
   "display_name": "Python 3",
   "language": "python",
   "name": "python3"
  },
  "language_info": {
   "codemirror_mode": {
    "name": "ipython",
    "version": 3
   },
   "file_extension": ".py",
   "mimetype": "text/x-python",
   "name": "python",
   "nbconvert_exporter": "python",
   "pygments_lexer": "ipython3",
   "version": "3.10.9 (tags/v3.10.9:1dd9be6, Dec  6 2022, 20:01:21) [MSC v.1934 64 bit (AMD64)]"
  },
  "orig_nbformat": 4,
  "vscode": {
   "interpreter": {
    "hash": "ee6227b8ad8273db981c37f14a5b5490b445921b59a9c0af549815d41b87a2f6"
   }
  }
 },
 "nbformat": 4,
 "nbformat_minor": 2
}
