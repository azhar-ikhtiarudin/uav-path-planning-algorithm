{
 "cells": [
  {
   "cell_type": "code",
   "execution_count": 5,
   "metadata": {},
   "outputs": [
    {
     "name": "stdout",
     "output_type": "stream",
     "text": [
      "(1, 0, 9, 1)\n",
      "91\n"
     ]
    }
   ],
   "source": [
    "# Parameters\n",
    "MAP_X = 30\n",
    "MAP_Y = 20\n",
    "ACTION_SIZE = 8\n",
    "import pandas as pd\n",
    "import numpy as np\n",
    "\n",
    "pathDist_path = f'scripts/path_dist/{MAP_X}x{MAP_Y}_pathDistv3.csv'\n",
    "\n",
    "pathDist = pd.read_csv(f'{pathDist_path}', header=None, dtype='Float32').values\n",
    "distance = str(int(pathDist[12,0])).zfill(3)\n",
    "action = '1'\n",
    "state = action+distance\n",
    "\n",
    "array = [int(i) for i in state] \n",
    "# print([int(i) for i in state])\n",
    "state = tuple(array)\n",
    "print(state)\n",
    "\n",
    "def stateToDistance(state):\n",
    "    distance = ''\n",
    "    for i in range(1, 4):\n",
    "        distance += str(state[i])\n",
    "    return int(distance)\n",
    "\n",
    "print(stateToDistance(state))\n",
    "\n",
    "def distanceToState(action, state):\n",
    "    distanceState = self.pathDist[self.agent_1.y][self.agent_1.x]\n",
    "    stateString = str(action) + str(int(distanceState)).zfill(3)\n"
   ]
  },
  {
   "cell_type": "code",
   "execution_count": 3,
   "metadata": {},
   "outputs": [],
   "source": [
    "q_table = {}\n",
    "for i in range(ACTION_SIZE):\n",
    "    for j in range(10):\n",
    "        for k in range(10):\n",
    "            for l in range(10):\n",
    "                q_table[(i,j,k,l)] = [np.random.uniform(-5,  0) for i in range(ACTION_SIZE)]"
   ]
  },
  {
   "cell_type": "code",
   "execution_count": 4,
   "metadata": {},
   "outputs": [
    {
     "name": "stdout",
     "output_type": "stream",
     "text": [
      "[-2.234599386017615, -0.7621781692875436, -4.16139416528685, -3.2526836303099955, -2.1330541036575603, -0.06786180548541054, -0.5046023310349428, -1.5742996137673035]\n"
     ]
    },
    {
     "ename": "KeyError",
     "evalue": "<class 'tuple'>",
     "output_type": "error",
     "traceback": [
      "\u001b[1;31m---------------------------------------------------------------------------\u001b[0m",
      "\u001b[1;31mKeyError\u001b[0m                                  Traceback (most recent call last)",
      "\u001b[1;32md:\\[Project]\\[Dev]\\uav-rl-paper-2\\uav-rl-paper\\testNote.ipynb Cell 3\u001b[0m in \u001b[0;36m<cell line: 2>\u001b[1;34m()\u001b[0m\n\u001b[0;32m      <a href='vscode-notebook-cell:/d%3A/%5BProject%5D/%5BDev%5D/uav-rl-paper-2/uav-rl-paper/testNote.ipynb#W2sZmlsZQ%3D%3D?line=0'>1</a>\u001b[0m \u001b[39mprint\u001b[39m(q_table[\u001b[39m1\u001b[39m,\u001b[39m0\u001b[39m,\u001b[39m9\u001b[39m,\u001b[39m2\u001b[39m])\n\u001b[1;32m----> <a href='vscode-notebook-cell:/d%3A/%5BProject%5D/%5BDev%5D/uav-rl-paper-2/uav-rl-paper/testNote.ipynb#W2sZmlsZQ%3D%3D?line=1'>2</a>\u001b[0m q_table[\u001b[39mtuple\u001b[39;49m][\u001b[39m0\u001b[39m] \u001b[39m=\u001b[39m q_table[\u001b[39m1\u001b[39m,\u001b[39m0\u001b[39m,\u001b[39m9\u001b[39m,\u001b[39m2\u001b[39m][\u001b[39m0\u001b[39m]\n\u001b[0;32m      <a href='vscode-notebook-cell:/d%3A/%5BProject%5D/%5BDev%5D/uav-rl-paper-2/uav-rl-paper/testNote.ipynb#W2sZmlsZQ%3D%3D?line=2'>3</a>\u001b[0m \u001b[39mprint\u001b[39m(\u001b[39m'\u001b[39m\u001b[39m=============\u001b[39m\u001b[39m'\u001b[39m)\n\u001b[0;32m      <a href='vscode-notebook-cell:/d%3A/%5BProject%5D/%5BDev%5D/uav-rl-paper-2/uav-rl-paper/testNote.ipynb#W2sZmlsZQ%3D%3D?line=3'>4</a>\u001b[0m \u001b[39mprint\u001b[39m(q_table[\u001b[39mtuple\u001b[39m])\n",
      "\u001b[1;31mKeyError\u001b[0m: <class 'tuple'>"
     ]
    }
   ],
   "source": [
    "print(q_table[1,0,9,2])\n",
    "q_table[tuple][0] = q_table[1,0,9,2][0]\n",
    "print('=============')\n",
    "print(q_table[tuple])\n",
    "# print(q_table[1,0,9,2][0])"
   ]
  },
  {
   "cell_type": "code",
   "execution_count": null,
   "metadata": {},
   "outputs": [
    {
     "name": "stdout",
     "output_type": "stream",
     "text": [
      "[-0.5352199809187379, -1.442829538206098, -4.894204508736227, -4.54646085706714, -4.9351465210368275, -2.407638395222978, -3.33688234019941, -4.614545917933568]\n",
      "-4.9351465210368275\n"
     ]
    }
   ],
   "source": [
    "q_table_2 = {}\n",
    "\n",
    "for i in range(0, 1000):\n",
    "        q_table_2[(i)] = [np.random.uniform(-5, 0) for i in range(ACTION_SIZE)]\n",
    "\n",
    "print(q_table_2[1])\n",
    "print(q_table_2[1][4])"
   ]
  },
  {
   "cell_type": "code",
   "execution_count": null,
   "metadata": {},
   "outputs": [],
   "source": []
  }
 ],
 "metadata": {
  "kernelspec": {
   "display_name": "Python 3",
   "language": "python",
   "name": "python3"
  },
  "language_info": {
   "codemirror_mode": {
    "name": "ipython",
    "version": 3
   },
   "file_extension": ".py",
   "mimetype": "text/x-python",
   "name": "python",
   "nbconvert_exporter": "python",
   "pygments_lexer": "ipython3",
   "version": "3.10.9"
  },
  "orig_nbformat": 4,
  "vscode": {
   "interpreter": {
    "hash": "93f50a786178c234f0b1bff3476f651981df4cf2b8433153d2ab7805044c9624"
   }
  }
 },
 "nbformat": 4,
 "nbformat_minor": 2
}
